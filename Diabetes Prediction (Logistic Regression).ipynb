{
 "cells": [
  {
   "cell_type": "code",
   "execution_count": 13,
   "id": "8332829b-964d-469f-ad46-633a6e7bcdb4",
   "metadata": {},
   "outputs": [],
   "source": [
    "import pandas as pd\n",
    "from sklearn.model_selection import train_test_split\n",
    "from sklearn.preprocessing import StandardScaler\n",
    "from sklearn.linear_model import LogisticRegression\n",
    "import numpy as np"
   ]
  },
  {
   "cell_type": "code",
   "execution_count": null,
   "id": "6939df10-9436-4108-a5e8-870836bf9fb2",
   "metadata": {},
   "outputs": [],
   "source": [
    "# Load the dataset\n",
    "file_path = 'diabetes.csv'\n",
    "data = pd.read_csv(file_path)\n",
    "\n",
    "print(data.head())"
   ]
  },
  {
   "cell_type": "code",
   "execution_count": null,
   "id": "3ad0bfa3-7df5-4ce5-83b2-2330f0bd374d",
   "metadata": {},
   "outputs": [],
   "source": [
    "# Select relevant features\n",
    "features = ['BMI', 'Age', 'BloodPressure']\n",
    "X = data[features]\n",
    "y = data['Outcome']\n",
    "\n",
    "# Handle missing values by filling with the median\n",
    "X.fillna(X.median(), inplace=True)\n",
    "\n",
    "# Split the data into training and testing sets\n",
    "X_train, X_test, y_train, y_test = train_test_split(X, y, test_size=0.2, random_state=42)\n",
    "\n",
    "# Standardize the data\n",
    "scaler = StandardScaler()\n",
    "X_train = scaler.fit_transform(X_train)\n",
    "X_test = scaler.transform(X_test)\n",
    "\n",
    "# Train the logistic regression model\n",
    "model = LogisticRegression()\n",
    "model.fit(X_train, y_train)\n",
    "\n",
    "# Function to predict diabetes\n",
    "def predict_diabetes(bmi, age, blood_pressure):\n",
    "    input_data = np.array([[bmi, age, blood_pressure]])\n",
    "    input_data = scaler.transform(input_data)\n",
    "    prediction = model.predict(input_data)\n",
    "    return \"Diabetic\" if prediction[0] == 1 else \"Not Diabetic\"\n",
    "\n",
    "# Example usage\n",
    "bmi = float(input())\n",
    "age = float(input())\n",
    "blood_pressure = float(input())\n",
    "\n",
    "result = predict_diabetes(bmi, age, blood_pressure)\n",
    "result"
   ]
  },
  {
   "cell_type": "code",
   "execution_count": null,
   "id": "54d4ec4d-7541-4188-8e9e-9a6e65ceab9f",
   "metadata": {},
   "outputs": [],
   "source": []
  }
 ],
 "metadata": {
  "kernelspec": {
   "display_name": "Python 3 (ipykernel)",
   "language": "python",
   "name": "python3"
  },
  "language_info": {
   "codemirror_mode": {
    "name": "ipython",
    "version": 3
   },
   "file_extension": ".py",
   "mimetype": "text/x-python",
   "name": "python",
   "nbconvert_exporter": "python",
   "pygments_lexer": "ipython3",
   "version": "3.12.4"
  }
 },
 "nbformat": 4,
 "nbformat_minor": 5
}

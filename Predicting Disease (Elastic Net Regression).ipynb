{
 "cells": [
  {
   "cell_type": "code",
   "execution_count": 4,
   "id": "25ba99ea-4f3b-41c3-9b74-79c4f5ab3e67",
   "metadata": {},
   "outputs": [],
   "source": [
    "import pandas as pd\n",
    "from sklearn.model_selection import train_test_split\n",
    "from sklearn.linear_model import ElasticNet\n",
    "from sklearn.metrics import mean_squared_error, r2_score\n",
    "from sklearn.model_selection import GridSearchCV\n",
    "from sklearn.preprocessing import LabelEncoder"
   ]
  },
  {
   "cell_type": "code",
   "execution_count": null,
   "id": "5eed2bea-e49c-49a6-a579-5c7cb03cc43c",
   "metadata": {},
   "outputs": [],
   "source": [
    "# Load the data\n",
    "symptom_severity_df = pd.read_csv('Symptom-severity.csv')\n",
    "dataset_df = pd.read_csv('dataset.csv')\n",
    "symptom_description_df = pd.read_csv('symptom_Description.csv')\n",
    "symptom_precaution_df = pd.read_csv('symptom_precaution.csv')\n",
    "\n",
    "# Display the first few rows of each DataFrame\n",
    "symptom_severity_df.head(), dataset_df.head(), symptom_description_df.head(), symptom_precaution_df.head()"
   ]
  },
  {
   "cell_type": "code",
   "execution_count": null,
   "id": "0e65ca60-241c-499b-84ca-902d179796c5",
   "metadata": {},
   "outputs": [],
   "source": [
    "# Map symptom severity\n",
    "symptom_severity_dict = symptom_severity_df.set_index('Symptom').to_dict()['weight']\n",
    "\n",
    "# Replace symptoms with severity weights in the dataset\n",
    "for col in dataset_df.columns[1:]:\n",
    "    dataset_df[col] = dataset_df[col].map(symptom_severity_dict)\n",
    "\n",
    "# Fill NaN values with 0 (assuming no symptom if NaN)\n",
    "dataset_df = dataset_df.fillna(0)\n",
    "\n",
    "# Encode target labels\n",
    "le = LabelEncoder()\n",
    "dataset_df['Disease'] = le.fit_transform(dataset_df['Disease'])\n",
    "\n",
    "# Split the data into features and target\n",
    "X = dataset_df.drop(columns=['Disease'])\n",
    "y = dataset_df['Disease']\n",
    "\n",
    "# Split the dataset into training and testing sets\n",
    "X_train, X_test, y_train, y_test = train_test_split(X, y, test_size=0.2, random_state=42)\n",
    "\n",
    "# Define the Elastic Net model\n",
    "elastic_net = ElasticNet()\n",
    "\n",
    "# Define the hyperparameters grid\n",
    "param_grid = {\n",
    "    'alpha': [0.1, 0.5, 1.0, 5.0, 10.0],\n",
    "    'l1_ratio': [0.1, 0.5, 0.7, 0.9, 1.0]\n",
    "}\n",
    "\n",
    "# Perform grid search with cross-validation\n",
    "grid_search = GridSearchCV(elastic_net, param_grid, cv=5, scoring='neg_mean_squared_error')\n",
    "grid_search.fit(X_train, y_train)\n",
    "\n",
    "# Get the best model\n",
    "best_model = grid_search.best_estimator_\n",
    "\n",
    "# Predict on the test set\n",
    "y_pred = best_model.predict(X_test)\n",
    "\n",
    "# Evaluate the model\n",
    "mse = mean_squared_error(y_test, y_pred)\n",
    "r2 = r2_score(y_test, y_pred)\n",
    "\n",
    "print(f\"Mean Squared Error: {mse}\")\n",
    "print(f\"R-squared: {r2}\")\n",
    "\n",
    "# Define the prediction function\n",
    "def predict_disease(symptoms):\n",
    "    return predicted_disease\n",
    "\n",
    "# Example usage:\n",
    "user_symptoms = ['skin_rash', ' high_fever', ' blister']\n",
    "predicted_disease = predict_disease(user_symptoms)\n",
    "print(f\"The predicted disease based on the symptoms is: {predicted_disease}\")"
   ]
  },
  {
   "cell_type": "code",
   "execution_count": null,
   "id": "0ec063da-6346-4fac-a754-9f93eb48a019",
   "metadata": {},
   "outputs": [],
   "source": []
  }
 ],
 "metadata": {
  "kernelspec": {
   "display_name": "Python 3 (ipykernel)",
   "language": "python",
   "name": "python3"
  },
  "language_info": {
   "codemirror_mode": {
    "name": "ipython",
    "version": 3
   },
   "file_extension": ".py",
   "mimetype": "text/x-python",
   "name": "python",
   "nbconvert_exporter": "python",
   "pygments_lexer": "ipython3",
   "version": "3.12.4"
  }
 },
 "nbformat": 4,
 "nbformat_minor": 5
}
